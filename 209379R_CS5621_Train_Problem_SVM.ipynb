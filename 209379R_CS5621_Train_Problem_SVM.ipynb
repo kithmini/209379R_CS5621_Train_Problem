{
  "nbformat": 4,
  "nbformat_minor": 0,
  "metadata": {
    "kernelspec": {
      "display_name": "Python 2",
      "language": "python",
      "name": "python2"
    },
    "language_info": {
      "codemirror_mode": {
        "name": "ipython",
        "version": 3
      },
      "file_extension": ".py",
      "mimetype": "text/x-python",
      "name": "python",
      "nbconvert_exporter": "python",
      "pygments_lexer": "ipython3",
      "version": "3.6.9"
    },
    "colab": {
      "name": "209379R-CS5621_Train_Problem_SVM.ipynb",
      "provenance": []
    }
  },
  "cells": [
    {
      "cell_type": "code",
      "metadata": {
        "id": "8XU5Fygri3Hg",
        "colab_type": "code",
        "colab": {
          "base_uri": "https://localhost:8080/",
          "height": 52
        },
        "outputId": "42e63ec1-dbc5-46d6-bdba-fa6765dc6e7f"
      },
      "source": [
        "print('##### SVM Classification on Kaggle Data #####')\n",
        "\n",
        "print('----- Importing required libraries & modules-----')\n",
        "\n",
        "import pandas as pd\n",
        "import numpy as np\n",
        "import matplotlib.pyplot as plt\n",
        "%matplotlib inline\n",
        "\n",
        "# from sklearn import model_selection\n",
        "from sklearn.model_selection import train_test_split\n",
        "from sklearn.svm import SVC\n",
        "# from sklearn.linear_model import LogisticRegression\n",
        "# from sklearn import linear_model\n",
        "from scipy.special import expit"
      ],
      "execution_count": 1,
      "outputs": [
        {
          "output_type": "stream",
          "text": [
            "##### SVM Classification on Kaggle Data #####\n",
            "----- Importing required libraries & modules-----\n"
          ],
          "name": "stdout"
        }
      ]
    },
    {
      "cell_type": "code",
      "metadata": {
        "id": "9T6bTeP3i3Hk",
        "colab_type": "code",
        "colab": {
          "base_uri": "https://localhost:8080/",
          "height": 361
        },
        "outputId": "9d730e47-b919-4e6a-f39a-b3cf025894d2"
      },
      "source": [
        "print('----- Importing dataset -----')\n",
        "data = pd.read_csv('train.csv',  na_values=['?'])\n",
        "\n",
        "data.columns = ['tripid','additional_fare','duration','meter_waiting','meter_waiting_fare','meter_waiting_till_pickup','pickup_time','drop_time','pick_lat','pick_lon','drop_lat','drop_lon','fare','label']\n",
        "feature_columns = ['additional_fare','duration','meter_waiting','meter_waiting_fare','meter_waiting_till_pickup','pick_lat','pick_lon','drop_lat','drop_lon','fare']\n",
        "\n",
        "\n",
        "print ('Imported Rows, Columns - ', data.shape)\n",
        "print ('Data Head :')\n",
        "data.head()"
      ],
      "execution_count": 14,
      "outputs": [
        {
          "output_type": "stream",
          "text": [
            "----- Importing dataset -----\n",
            "('Imported Rows, Columns - ', (17176, 14))\n",
            "Data Head :\n"
          ],
          "name": "stdout"
        },
        {
          "output_type": "execute_result",
          "data": {
            "text/plain": [
              "      tripid  additional_fare  duration  meter_waiting  meter_waiting_fare  \\\n",
              "0  189123628             10.5     834.0           56.0              0.0000   \n",
              "1  189125358             10.5     791.0           47.0              0.0000   \n",
              "2  189125719             10.5    1087.0           80.0              0.0000   \n",
              "3  189127273             10.5     598.0          271.0             15.6638   \n",
              "4  189128020              NaN       NaN            NaN                 NaN   \n",
              "\n",
              "   meter_waiting_till_pickup     pickup_time       drop_time  pick_lat  \\\n",
              "0                       64.0  11/1/2019 0:20  11/1/2019 0:34   6.86252   \n",
              "1                      134.0  11/1/2019 0:56  11/1/2019 1:09   6.88589   \n",
              "2                       61.0  11/1/2019 1:08  11/1/2019 1:26   6.90839   \n",
              "3                       68.0  11/1/2019 2:27  11/1/2019 2:37   6.92570   \n",
              "4                        NaN  11/1/2019 3:34  11/1/2019 3:51   6.87441   \n",
              "\n",
              "   pick_lon  drop_lat  drop_lon    fare    label  \n",
              "0   79.8993   6.90330   79.8783  270.32  correct  \n",
              "1   79.8984   6.91373   79.8923  197.85  correct  \n",
              "2   79.8651   6.93669   79.9146  301.64  correct  \n",
              "3   79.8895   6.92748   79.8971   82.30  correct  \n",
              "4   79.8615   6.84478   79.9290  358.39  correct  "
            ],
            "text/html": [
              "<div>\n",
              "<style scoped>\n",
              "    .dataframe tbody tr th:only-of-type {\n",
              "        vertical-align: middle;\n",
              "    }\n",
              "\n",
              "    .dataframe tbody tr th {\n",
              "        vertical-align: top;\n",
              "    }\n",
              "\n",
              "    .dataframe thead th {\n",
              "        text-align: right;\n",
              "    }\n",
              "</style>\n",
              "<table border=\"1\" class=\"dataframe\">\n",
              "  <thead>\n",
              "    <tr style=\"text-align: right;\">\n",
              "      <th></th>\n",
              "      <th>tripid</th>\n",
              "      <th>additional_fare</th>\n",
              "      <th>duration</th>\n",
              "      <th>meter_waiting</th>\n",
              "      <th>meter_waiting_fare</th>\n",
              "      <th>meter_waiting_till_pickup</th>\n",
              "      <th>pickup_time</th>\n",
              "      <th>drop_time</th>\n",
              "      <th>pick_lat</th>\n",
              "      <th>pick_lon</th>\n",
              "      <th>drop_lat</th>\n",
              "      <th>drop_lon</th>\n",
              "      <th>fare</th>\n",
              "      <th>label</th>\n",
              "    </tr>\n",
              "  </thead>\n",
              "  <tbody>\n",
              "    <tr>\n",
              "      <th>0</th>\n",
              "      <td>189123628</td>\n",
              "      <td>10.5</td>\n",
              "      <td>834.0</td>\n",
              "      <td>56.0</td>\n",
              "      <td>0.0000</td>\n",
              "      <td>64.0</td>\n",
              "      <td>11/1/2019 0:20</td>\n",
              "      <td>11/1/2019 0:34</td>\n",
              "      <td>6.86252</td>\n",
              "      <td>79.8993</td>\n",
              "      <td>6.90330</td>\n",
              "      <td>79.8783</td>\n",
              "      <td>270.32</td>\n",
              "      <td>correct</td>\n",
              "    </tr>\n",
              "    <tr>\n",
              "      <th>1</th>\n",
              "      <td>189125358</td>\n",
              "      <td>10.5</td>\n",
              "      <td>791.0</td>\n",
              "      <td>47.0</td>\n",
              "      <td>0.0000</td>\n",
              "      <td>134.0</td>\n",
              "      <td>11/1/2019 0:56</td>\n",
              "      <td>11/1/2019 1:09</td>\n",
              "      <td>6.88589</td>\n",
              "      <td>79.8984</td>\n",
              "      <td>6.91373</td>\n",
              "      <td>79.8923</td>\n",
              "      <td>197.85</td>\n",
              "      <td>correct</td>\n",
              "    </tr>\n",
              "    <tr>\n",
              "      <th>2</th>\n",
              "      <td>189125719</td>\n",
              "      <td>10.5</td>\n",
              "      <td>1087.0</td>\n",
              "      <td>80.0</td>\n",
              "      <td>0.0000</td>\n",
              "      <td>61.0</td>\n",
              "      <td>11/1/2019 1:08</td>\n",
              "      <td>11/1/2019 1:26</td>\n",
              "      <td>6.90839</td>\n",
              "      <td>79.8651</td>\n",
              "      <td>6.93669</td>\n",
              "      <td>79.9146</td>\n",
              "      <td>301.64</td>\n",
              "      <td>correct</td>\n",
              "    </tr>\n",
              "    <tr>\n",
              "      <th>3</th>\n",
              "      <td>189127273</td>\n",
              "      <td>10.5</td>\n",
              "      <td>598.0</td>\n",
              "      <td>271.0</td>\n",
              "      <td>15.6638</td>\n",
              "      <td>68.0</td>\n",
              "      <td>11/1/2019 2:27</td>\n",
              "      <td>11/1/2019 2:37</td>\n",
              "      <td>6.92570</td>\n",
              "      <td>79.8895</td>\n",
              "      <td>6.92748</td>\n",
              "      <td>79.8971</td>\n",
              "      <td>82.30</td>\n",
              "      <td>correct</td>\n",
              "    </tr>\n",
              "    <tr>\n",
              "      <th>4</th>\n",
              "      <td>189128020</td>\n",
              "      <td>NaN</td>\n",
              "      <td>NaN</td>\n",
              "      <td>NaN</td>\n",
              "      <td>NaN</td>\n",
              "      <td>NaN</td>\n",
              "      <td>11/1/2019 3:34</td>\n",
              "      <td>11/1/2019 3:51</td>\n",
              "      <td>6.87441</td>\n",
              "      <td>79.8615</td>\n",
              "      <td>6.84478</td>\n",
              "      <td>79.9290</td>\n",
              "      <td>358.39</td>\n",
              "      <td>correct</td>\n",
              "    </tr>\n",
              "  </tbody>\n",
              "</table>\n",
              "</div>"
            ]
          },
          "metadata": {
            "tags": []
          },
          "execution_count": 14
        }
      ]
    },
    {
      "cell_type": "code",
      "metadata": {
        "id": "JC6mC_A7i3Ho",
        "colab_type": "code",
        "colab": {
          "base_uri": "https://localhost:8080/",
          "height": 139
        },
        "outputId": "a6db811f-8fc5-40d3-cd8e-5961c3bf7ffd"
      },
      "source": [
        "print('----- Preprocessing Data -----')\n",
        "\n",
        "processedData = data.dropna() #dropping missing value rows\n",
        "\n",
        "# print(processedData[processedData[\"fare\"].isna()].shape)\n",
        "\n",
        "print ('Complete Rows, Columns - ', processedData.shape)\n",
        "\n",
        "X = processedData[feature_columns]\n",
        "Y = processedData[\"label\"]\n",
        "\n",
        "X_train, X_test, Y_train, Y_test = train_test_split(X, Y, test_size = 0.20)\n",
        "\n",
        "print('----- Training Classifier -----')\n",
        "\n",
        "svclassifier = SVC(gamma=\"scale\", C=0.01)\n",
        "svclassifier.fit(X_train, Y_train)"
      ],
      "execution_count": 15,
      "outputs": [
        {
          "output_type": "stream",
          "text": [
            "----- Preprocessing Data -----\n",
            "('Complete Rows, Columns - ', (16968, 14))\n",
            "----- Training Classifier -----\n"
          ],
          "name": "stdout"
        },
        {
          "output_type": "execute_result",
          "data": {
            "text/plain": [
              "SVC(C=0.01, cache_size=200, class_weight=None, coef0=0.0,\n",
              "  decision_function_shape='ovr', degree=3, gamma='scale', kernel='rbf',\n",
              "  max_iter=-1, probability=False, random_state=None, shrinking=True,\n",
              "  tol=0.001, verbose=False)"
            ]
          },
          "metadata": {
            "tags": []
          },
          "execution_count": 15
        }
      ]
    },
    {
      "cell_type": "code",
      "metadata": {
        "id": "51fbGK2ci3Hr",
        "colab_type": "code",
        "colab": {
          "base_uri": "https://localhost:8080/",
          "height": 297
        },
        "outputId": "d37be126-df3f-420c-b432-bb12d752b21d"
      },
      "source": [
        "print('----- Testing Classifier -----')\n",
        "Y_pred = svclassifier.predict(X_test)\n",
        "\n",
        "from sklearn import metrics\n",
        "\n",
        "print(\"Accuracy:  %.2f%%\",metrics.accuracy_score(Y_test, Y_pred)*100.0)\n",
        "\n",
        "from sklearn.metrics import classification_report, confusion_matrix\n",
        "print(confusion_matrix(Y_test,Y_pred))\n",
        "print(classification_report(Y_test,Y_pred))"
      ],
      "execution_count": 16,
      "outputs": [
        {
          "output_type": "stream",
          "text": [
            "----- Testing Classifier -----\n",
            "('Accuracy:  %.2f%%', 90.21803182086035)\n",
            "[[3062    0]\n",
            " [ 332    0]]\n",
            "              precision    recall  f1-score   support\n",
            "\n",
            "     correct       0.90      1.00      0.95      3062\n",
            "   incorrect       0.00      0.00      0.00       332\n",
            "\n",
            "   micro avg       0.90      0.90      0.90      3394\n",
            "   macro avg       0.45      0.50      0.47      3394\n",
            "weighted avg       0.81      0.90      0.86      3394\n",
            "\n"
          ],
          "name": "stdout"
        },
        {
          "output_type": "stream",
          "text": [
            "/usr/local/lib/python2.7/dist-packages/sklearn/metrics/classification.py:1143: UndefinedMetricWarning: Precision and F-score are ill-defined and being set to 0.0 in labels with no predicted samples.\n",
            "  'precision', 'predicted', average, warn_for)\n"
          ],
          "name": "stderr"
        }
      ]
    },
    {
      "cell_type": "code",
      "metadata": {
        "id": "3Yr1o7gIi3Hu",
        "colab_type": "code",
        "colab": {}
      },
      "source": [
        ""
      ],
      "execution_count": null,
      "outputs": []
    },
    {
      "cell_type": "code",
      "metadata": {
        "id": "6jjX_qj8i3Hx",
        "colab_type": "code",
        "colab": {}
      },
      "source": [
        ""
      ],
      "execution_count": null,
      "outputs": []
    }
  ]
}