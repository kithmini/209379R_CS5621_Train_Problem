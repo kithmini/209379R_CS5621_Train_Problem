{
  "nbformat": 4,
  "nbformat_minor": 0,
  "metadata": {
    "kernelspec": {
      "display_name": "Python 2",
      "language": "python",
      "name": "python2"
    },
    "language_info": {
      "codemirror_mode": {
        "name": "ipython",
        "version": 3
      },
      "file_extension": ".py",
      "mimetype": "text/x-python",
      "name": "python",
      "nbconvert_exporter": "python",
      "pygments_lexer": "ipython3",
      "version": "3.6.9"
    },
    "colab": {
      "name": "209379R-CS5621_Train_Problem_RFC.ipynb",
      "provenance": [],
      "collapsed_sections": []
    }
  },
  "cells": [
    {
      "cell_type": "code",
      "metadata": {
        "id": "1UTImjOwe0K-",
        "colab_type": "code",
        "colab": {
          "base_uri": "https://localhost:8080/",
          "height": 52
        },
        "outputId": "e7f162e7-dad0-4f7a-cff5-4ad4191f2785"
      },
      "source": [
        "print('##### Random Forest Classification on Kaggle Data #####')\n",
        "\n",
        "print('----- Importing required libraries & modules-----')\n",
        "\n",
        "import pandas as pd\n",
        "import numpy as np\n",
        "import matplotlib.pyplot as plt\n",
        "%matplotlib inline\n",
        "\n",
        "# from sklearn import model_selection\n",
        "from sklearn.model_selection import train_test_split\n",
        "from sklearn.ensemble import RandomForestRegressor # random forest regression\n",
        "# from sklearn.linear_model import LogisticRegression\n",
        "# from sklearn import linear_model\n",
        "from scipy.special import expit"
      ],
      "execution_count": 3,
      "outputs": [
        {
          "output_type": "stream",
          "text": [
            "##### Random Forest Classification on Kaggle Data #####\n",
            "----- Importing required libraries & modules-----\n"
          ],
          "name": "stdout"
        }
      ]
    },
    {
      "cell_type": "code",
      "metadata": {
        "id": "2EtRcm8Ve0LX",
        "colab_type": "code",
        "colab": {
          "base_uri": "https://localhost:8080/",
          "height": 378
        },
        "outputId": "a3e59aad-8a3a-414a-db65-a663b0975ae4"
      },
      "source": [
        "print('----- Importing dataset -----')\n",
        "dataTrain = pd.read_csv('train.csv')\n",
        "dataTrain = dataTrain.dropna()\n",
        "dataTest = pd.read_csv('test.csv')\n",
        "\n",
        "print ('Training Data : Imported Rows, Columns - ', dataTrain.shape)\n",
        "print ('Testing Data : Imported Rows, Columns - ', dataTest.shape)\n",
        "print ('Data Head :')\n",
        "dataTrain.head()"
      ],
      "execution_count": 4,
      "outputs": [
        {
          "output_type": "stream",
          "text": [
            "----- Importing dataset -----\n",
            "('Training Data : Imported Rows, Columns - ', (16968, 14))\n",
            "('Testing Data : Imported Rows, Columns - ', (8576, 13))\n",
            "Data Head :\n"
          ],
          "name": "stdout"
        },
        {
          "output_type": "execute_result",
          "data": {
            "text/plain": [
              "      tripid  additional_fare  duration  meter_waiting  meter_waiting_fare  \\\n",
              "0  189123628             10.5     834.0           56.0              0.0000   \n",
              "1  189125358             10.5     791.0           47.0              0.0000   \n",
              "2  189125719             10.5    1087.0           80.0              0.0000   \n",
              "3  189127273             10.5     598.0          271.0             15.6638   \n",
              "5  189129552             10.5    3407.0          182.0              0.0000   \n",
              "\n",
              "   meter_waiting_till_pickup     pickup_time       drop_time  pick_lat  \\\n",
              "0                       64.0  11/1/2019 0:20  11/1/2019 0:34   6.86252   \n",
              "1                      134.0  11/1/2019 0:56  11/1/2019 1:09   6.88589   \n",
              "2                       61.0  11/1/2019 1:08  11/1/2019 1:26   6.90839   \n",
              "3                       68.0  11/1/2019 2:27  11/1/2019 2:37   6.92570   \n",
              "5                      112.0  11/1/2019 5:38  11/1/2019 6:35   7.13402   \n",
              "\n",
              "   pick_lon  drop_lat  drop_lon     fare    label  \n",
              "0   79.8993   6.90330   79.8783   270.32  correct  \n",
              "1   79.8984   6.91373   79.8923   197.85  correct  \n",
              "2   79.8651   6.93669   79.9146   301.64  correct  \n",
              "3   79.8895   6.92748   79.8971    82.30  correct  \n",
              "5   79.8969   6.91865   79.8649  1065.02  correct  "
            ],
            "text/html": [
              "<div>\n",
              "<style scoped>\n",
              "    .dataframe tbody tr th:only-of-type {\n",
              "        vertical-align: middle;\n",
              "    }\n",
              "\n",
              "    .dataframe tbody tr th {\n",
              "        vertical-align: top;\n",
              "    }\n",
              "\n",
              "    .dataframe thead th {\n",
              "        text-align: right;\n",
              "    }\n",
              "</style>\n",
              "<table border=\"1\" class=\"dataframe\">\n",
              "  <thead>\n",
              "    <tr style=\"text-align: right;\">\n",
              "      <th></th>\n",
              "      <th>tripid</th>\n",
              "      <th>additional_fare</th>\n",
              "      <th>duration</th>\n",
              "      <th>meter_waiting</th>\n",
              "      <th>meter_waiting_fare</th>\n",
              "      <th>meter_waiting_till_pickup</th>\n",
              "      <th>pickup_time</th>\n",
              "      <th>drop_time</th>\n",
              "      <th>pick_lat</th>\n",
              "      <th>pick_lon</th>\n",
              "      <th>drop_lat</th>\n",
              "      <th>drop_lon</th>\n",
              "      <th>fare</th>\n",
              "      <th>label</th>\n",
              "    </tr>\n",
              "  </thead>\n",
              "  <tbody>\n",
              "    <tr>\n",
              "      <th>0</th>\n",
              "      <td>189123628</td>\n",
              "      <td>10.5</td>\n",
              "      <td>834.0</td>\n",
              "      <td>56.0</td>\n",
              "      <td>0.0000</td>\n",
              "      <td>64.0</td>\n",
              "      <td>11/1/2019 0:20</td>\n",
              "      <td>11/1/2019 0:34</td>\n",
              "      <td>6.86252</td>\n",
              "      <td>79.8993</td>\n",
              "      <td>6.90330</td>\n",
              "      <td>79.8783</td>\n",
              "      <td>270.32</td>\n",
              "      <td>correct</td>\n",
              "    </tr>\n",
              "    <tr>\n",
              "      <th>1</th>\n",
              "      <td>189125358</td>\n",
              "      <td>10.5</td>\n",
              "      <td>791.0</td>\n",
              "      <td>47.0</td>\n",
              "      <td>0.0000</td>\n",
              "      <td>134.0</td>\n",
              "      <td>11/1/2019 0:56</td>\n",
              "      <td>11/1/2019 1:09</td>\n",
              "      <td>6.88589</td>\n",
              "      <td>79.8984</td>\n",
              "      <td>6.91373</td>\n",
              "      <td>79.8923</td>\n",
              "      <td>197.85</td>\n",
              "      <td>correct</td>\n",
              "    </tr>\n",
              "    <tr>\n",
              "      <th>2</th>\n",
              "      <td>189125719</td>\n",
              "      <td>10.5</td>\n",
              "      <td>1087.0</td>\n",
              "      <td>80.0</td>\n",
              "      <td>0.0000</td>\n",
              "      <td>61.0</td>\n",
              "      <td>11/1/2019 1:08</td>\n",
              "      <td>11/1/2019 1:26</td>\n",
              "      <td>6.90839</td>\n",
              "      <td>79.8651</td>\n",
              "      <td>6.93669</td>\n",
              "      <td>79.9146</td>\n",
              "      <td>301.64</td>\n",
              "      <td>correct</td>\n",
              "    </tr>\n",
              "    <tr>\n",
              "      <th>3</th>\n",
              "      <td>189127273</td>\n",
              "      <td>10.5</td>\n",
              "      <td>598.0</td>\n",
              "      <td>271.0</td>\n",
              "      <td>15.6638</td>\n",
              "      <td>68.0</td>\n",
              "      <td>11/1/2019 2:27</td>\n",
              "      <td>11/1/2019 2:37</td>\n",
              "      <td>6.92570</td>\n",
              "      <td>79.8895</td>\n",
              "      <td>6.92748</td>\n",
              "      <td>79.8971</td>\n",
              "      <td>82.30</td>\n",
              "      <td>correct</td>\n",
              "    </tr>\n",
              "    <tr>\n",
              "      <th>5</th>\n",
              "      <td>189129552</td>\n",
              "      <td>10.5</td>\n",
              "      <td>3407.0</td>\n",
              "      <td>182.0</td>\n",
              "      <td>0.0000</td>\n",
              "      <td>112.0</td>\n",
              "      <td>11/1/2019 5:38</td>\n",
              "      <td>11/1/2019 6:35</td>\n",
              "      <td>7.13402</td>\n",
              "      <td>79.8969</td>\n",
              "      <td>6.91865</td>\n",
              "      <td>79.8649</td>\n",
              "      <td>1065.02</td>\n",
              "      <td>correct</td>\n",
              "    </tr>\n",
              "  </tbody>\n",
              "</table>\n",
              "</div>"
            ]
          },
          "metadata": {
            "tags": []
          },
          "execution_count": 4
        }
      ]
    },
    {
      "cell_type": "code",
      "metadata": {
        "id": "HaPocOBke0Lo",
        "colab_type": "code",
        "colab": {
          "base_uri": "https://localhost:8080/",
          "height": 309
        },
        "outputId": "0378aefb-7ab0-4c38-8cbd-7c5c95f2cd70"
      },
      "source": [
        "dataTest.head()"
      ],
      "execution_count": 5,
      "outputs": [
        {
          "output_type": "execute_result",
          "data": {
            "text/plain": [
              "      tripid  additional_fare  duration  meter_waiting  meter_waiting_fare  \\\n",
              "0  213284604             10.5       924             42              2.4486   \n",
              "1  213286352             10.5      4249             20              0.0000   \n",
              "2  213293973             10.5      1552            255              2.6588   \n",
              "3  213294622             10.5       462             16              0.0000   \n",
              "4  213298687             10.5       814            392             12.3692   \n",
              "\n",
              "   meter_waiting_till_pickup    pickup_time      drop_time  pick_lat  \\\n",
              "0                        148  2/1/2020 0:38  2/1/2020 0:53   6.83454   \n",
              "1                         91  2/1/2020 1:02  2/1/2020 2:13   6.91168   \n",
              "2                         23  2/1/2020 5:02  2/1/2020 5:28   6.92145   \n",
              "3                        198  2/1/2020 5:30  2/1/2020 5:38   6.77433   \n",
              "4                         69  2/1/2020 7:00  2/1/2020 7:14   6.97968   \n",
              "\n",
              "   pick_lon  drop_lat  drop_lon     fare  \n",
              "0   79.8750   6.77490   79.8840   289.27  \n",
              "1   79.8723   6.55091   79.9706  1912.70  \n",
              "2   79.8478   6.90539   79.8989   394.00  \n",
              "3   79.9416   6.80401   79.9407   154.32  \n",
              "4   79.9130   6.98875   79.8914   147.47  "
            ],
            "text/html": [
              "<div>\n",
              "<style scoped>\n",
              "    .dataframe tbody tr th:only-of-type {\n",
              "        vertical-align: middle;\n",
              "    }\n",
              "\n",
              "    .dataframe tbody tr th {\n",
              "        vertical-align: top;\n",
              "    }\n",
              "\n",
              "    .dataframe thead th {\n",
              "        text-align: right;\n",
              "    }\n",
              "</style>\n",
              "<table border=\"1\" class=\"dataframe\">\n",
              "  <thead>\n",
              "    <tr style=\"text-align: right;\">\n",
              "      <th></th>\n",
              "      <th>tripid</th>\n",
              "      <th>additional_fare</th>\n",
              "      <th>duration</th>\n",
              "      <th>meter_waiting</th>\n",
              "      <th>meter_waiting_fare</th>\n",
              "      <th>meter_waiting_till_pickup</th>\n",
              "      <th>pickup_time</th>\n",
              "      <th>drop_time</th>\n",
              "      <th>pick_lat</th>\n",
              "      <th>pick_lon</th>\n",
              "      <th>drop_lat</th>\n",
              "      <th>drop_lon</th>\n",
              "      <th>fare</th>\n",
              "    </tr>\n",
              "  </thead>\n",
              "  <tbody>\n",
              "    <tr>\n",
              "      <th>0</th>\n",
              "      <td>213284604</td>\n",
              "      <td>10.5</td>\n",
              "      <td>924</td>\n",
              "      <td>42</td>\n",
              "      <td>2.4486</td>\n",
              "      <td>148</td>\n",
              "      <td>2/1/2020 0:38</td>\n",
              "      <td>2/1/2020 0:53</td>\n",
              "      <td>6.83454</td>\n",
              "      <td>79.8750</td>\n",
              "      <td>6.77490</td>\n",
              "      <td>79.8840</td>\n",
              "      <td>289.27</td>\n",
              "    </tr>\n",
              "    <tr>\n",
              "      <th>1</th>\n",
              "      <td>213286352</td>\n",
              "      <td>10.5</td>\n",
              "      <td>4249</td>\n",
              "      <td>20</td>\n",
              "      <td>0.0000</td>\n",
              "      <td>91</td>\n",
              "      <td>2/1/2020 1:02</td>\n",
              "      <td>2/1/2020 2:13</td>\n",
              "      <td>6.91168</td>\n",
              "      <td>79.8723</td>\n",
              "      <td>6.55091</td>\n",
              "      <td>79.9706</td>\n",
              "      <td>1912.70</td>\n",
              "    </tr>\n",
              "    <tr>\n",
              "      <th>2</th>\n",
              "      <td>213293973</td>\n",
              "      <td>10.5</td>\n",
              "      <td>1552</td>\n",
              "      <td>255</td>\n",
              "      <td>2.6588</td>\n",
              "      <td>23</td>\n",
              "      <td>2/1/2020 5:02</td>\n",
              "      <td>2/1/2020 5:28</td>\n",
              "      <td>6.92145</td>\n",
              "      <td>79.8478</td>\n",
              "      <td>6.90539</td>\n",
              "      <td>79.8989</td>\n",
              "      <td>394.00</td>\n",
              "    </tr>\n",
              "    <tr>\n",
              "      <th>3</th>\n",
              "      <td>213294622</td>\n",
              "      <td>10.5</td>\n",
              "      <td>462</td>\n",
              "      <td>16</td>\n",
              "      <td>0.0000</td>\n",
              "      <td>198</td>\n",
              "      <td>2/1/2020 5:30</td>\n",
              "      <td>2/1/2020 5:38</td>\n",
              "      <td>6.77433</td>\n",
              "      <td>79.9416</td>\n",
              "      <td>6.80401</td>\n",
              "      <td>79.9407</td>\n",
              "      <td>154.32</td>\n",
              "    </tr>\n",
              "    <tr>\n",
              "      <th>4</th>\n",
              "      <td>213298687</td>\n",
              "      <td>10.5</td>\n",
              "      <td>814</td>\n",
              "      <td>392</td>\n",
              "      <td>12.3692</td>\n",
              "      <td>69</td>\n",
              "      <td>2/1/2020 7:00</td>\n",
              "      <td>2/1/2020 7:14</td>\n",
              "      <td>6.97968</td>\n",
              "      <td>79.9130</td>\n",
              "      <td>6.98875</td>\n",
              "      <td>79.8914</td>\n",
              "      <td>147.47</td>\n",
              "    </tr>\n",
              "  </tbody>\n",
              "</table>\n",
              "</div>"
            ]
          },
          "metadata": {
            "tags": []
          },
          "execution_count": 5
        }
      ]
    },
    {
      "cell_type": "code",
      "metadata": {
        "id": "_QGfYYLDe0L3",
        "colab_type": "code",
        "colab": {
          "base_uri": "https://localhost:8080/",
          "height": 35
        },
        "outputId": "351f34a3-9fd2-446c-c12a-8500404d5f5f"
      },
      "source": [
        "print('----- Preprocessing Data -----')\n",
        "\n",
        "    # interpret columns as appropriate data types to ensure compatibility\n",
        "dataTrain['tripid']                    = dataTrain['tripid'].astype(int)\n",
        "dataTrain['additional_fare']           = dataTrain['additional_fare'].astype(float)\n",
        "dataTrain['duration']                  = dataTrain['duration'].astype(float)\n",
        "dataTrain['meter_waiting']             = dataTrain['meter_waiting'].astype(float)\n",
        "dataTrain['meter_waiting_fare']        = dataTrain['meter_waiting_fare'].astype(float)\n",
        "dataTrain['meter_waiting_till_pickup'] = dataTrain['meter_waiting_till_pickup'].astype(float)\n",
        "dataTrain['pickup_time']               = pd.to_datetime(dataTrain['pickup_time'],format= '%m/%d/%Y %H:%M')\n",
        "dataTrain['drop_time']                 = pd.to_datetime(dataTrain['drop_time'],format= '%m/%d/%Y %H:%M')\n",
        "dataTrain['pick_lat']                  = dataTrain['pick_lat'].astype(float)\n",
        "dataTrain['pick_lon']                  = dataTrain['pick_lon'].astype(float)\n",
        "dataTrain['drop_lat']                  = dataTrain['drop_lat'].astype(float)\n",
        "dataTrain['drop_lon']                  = dataTrain['drop_lon'].astype(float)\n",
        "dataTrain['fare']                      = dataTrain['fare'].astype(float)\n",
        "dataTrain['label']                     = dataTrain['label'].map({'correct': 1, 'incorrect': 0})\n",
        "\n",
        "x_train = dataTrain.drop(['pickup_time','drop_time','label','tripid'],axis=1).to_numpy()\n",
        "\n",
        "y_train = dataTrain['label'].to_numpy()\n",
        "\n",
        "\n",
        "\n",
        "\n",
        "\n",
        "# y_val = y_pred.to_numpy()\n",
        "\n",
        "# dfnew = np.column_stack((x_id, y_val))\n",
        "# print ('Predicted Data : Rows, Columns - ', dfnew.shape)\n",
        "# dfnew.head()"
      ],
      "execution_count": 6,
      "outputs": [
        {
          "output_type": "stream",
          "text": [
            "----- Preprocessing Data -----\n"
          ],
          "name": "stdout"
        }
      ]
    },
    {
      "cell_type": "code",
      "metadata": {
        "id": "RfgYu05_e0MF",
        "colab_type": "code",
        "colab": {}
      },
      "source": [
        "dataTest['tripid']                    = dataTest['tripid'].astype(int)\n",
        "dataTest['additional_fare']           = dataTest['additional_fare'].astype(float)\n",
        "dataTest['duration']                  = dataTest['duration'].astype(float)\n",
        "dataTest['meter_waiting']             = dataTest['meter_waiting'].astype(float)\n",
        "dataTest['meter_waiting_fare']        = dataTest['meter_waiting_fare'].astype(float)\n",
        "dataTest['meter_waiting_till_pickup'] = dataTest['meter_waiting_till_pickup'].astype(float)\n",
        "dataTest['pickup_time']               = pd.to_datetime(dataTest['pickup_time'],format= '%m/%d/%Y %H:%M')\n",
        "dataTest['drop_time']                 = pd.to_datetime(dataTest['drop_time'],format= '%m/%d/%Y %H:%M')\n",
        "dataTest['pick_lat']                  = dataTest['pick_lat'].astype(float)\n",
        "dataTest['pick_lon']                  = dataTest['pick_lon'].astype(float)\n",
        "dataTest['drop_lat']                  = dataTest['drop_lat'].astype(float)\n",
        "dataTest['drop_lon']                  = dataTest['drop_lon'].astype(float)\n",
        "dataTest['fare']                      = dataTest['fare'].astype(float)\n",
        "\n",
        "x_id = dataTest['tripid'].to_numpy()\n",
        "x_test = dataTest.drop(['pickup_time','drop_time','tripid'],axis=1).to_numpy()\n",
        "\n"
      ],
      "execution_count": 7,
      "outputs": []
    },
    {
      "cell_type": "code",
      "metadata": {
        "id": "V9PKdF7ye0MU",
        "colab_type": "code",
        "colab": {
          "base_uri": "https://localhost:8080/",
          "height": 52
        },
        "outputId": "13b00076-aa7b-4a1d-e7aa-ad52115b44f0"
      },
      "source": [
        "print('----- Training Classifier -----')\n",
        "\n",
        "rf = RandomForestRegressor(n_estimators=100)\n",
        "model = rf.fit(x_train, y_train)\n",
        "y_predicted = rf.predict(x_test)\n",
        "y_predicted = np.rint(y_predicted)\n",
        "print(y_predicted)\n",
        "y_pred = pd.DataFrame(data=y_predicted, columns=[\"prediction\"])\n",
        "y_pred.to_csv('file_name.csv')"
      ],
      "execution_count": 8,
      "outputs": [
        {
          "output_type": "stream",
          "text": [
            "----- Training Classifier -----\n",
            "[1. 1. 1. ... 1. 1. 1.]\n"
          ],
          "name": "stdout"
        }
      ]
    },
    {
      "cell_type": "code",
      "metadata": {
        "id": "dyBh3gX2e0Mj",
        "colab_type": "code",
        "colab": {}
      },
      "source": [
        "y_pred.head()\n",
        "y_pred.to_csv('out.csv', index = False, header=True)\n",
        "\n",
        "# PLEASE NOTE THAT THE OUTPUT FILE CONTAINS ONLY THE PREDICTIONS COLUMN"
      ],
      "execution_count": 9,
      "outputs": []
    },
    {
      "cell_type": "code",
      "metadata": {
        "id": "pVua0h7ee0Mx",
        "colab_type": "code",
        "colab": {}
      },
      "source": [
        ""
      ],
      "execution_count": 9,
      "outputs": []
    },
    {
      "cell_type": "code",
      "metadata": {
        "id": "75kwZ3D6e0M_",
        "colab_type": "code",
        "colab": {}
      },
      "source": [
        ""
      ],
      "execution_count": 9,
      "outputs": []
    }
  ]
}